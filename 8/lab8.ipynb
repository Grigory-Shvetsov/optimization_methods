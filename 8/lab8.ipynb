{
 "cells": [
  {
   "cell_type": "code",
   "execution_count": null,
   "metadata": {},
   "outputs": [],
   "source": [
    "import numpy as np\n",
    "\n",
    "\n",
    "alpha = 30\n",
    "def Rosenbrock(X):\n",
    "    return alpha * (X[0]**2 - X[1])**2 + (X[0] - 1)**2\n",
    "\n",
    "def f1(X):\n",
    "    return 6*X[0]**2 - 4* X[0] * X[1] + 3 * X[1]**2 + 4 * math.sqrt(5) * (X[0] +  2* X[1]) +22    \n",
    "\n",
    "def f2(X):\n",
    "    return 10*X[0]**2 - 4* X[0] * X[1] + 7 * X[1]**2 - 4 * math.sqrt(5) * (5*X[0] -X[1]) - 16    \n",
    "\n",
    "# Начальная точка поиска минимума функции\n",
    "X0 = np.array([5, 5])\n",
    "\n",
    "\n"
   ]
  },
  {
   "cell_type": "code",
   "execution_count": null,
   "metadata": {},
   "outputs": [],
   "source": [
    "import sys\n",
    "def vnutr_shtraf1(X):\n",
    "    if (X[0]>0) & (X[1]>2) & (X[0]+X[1]<10):\n",
    "        return f(X) - r_for_vnutr*(1/(-X[0])+1/(2-X[1])+1/(X[0]+X[1]-10))\n",
    "    else:\n",
    "        return(f(X)+ sys.float_info.max)\n",
    "\n",
    "def vnutr_shtraf2(X):\n",
    "    if (((X[0]+3)**2)/4 + ((X[1]+4)**2)/9 - 5)<0:\n",
    "        return f(X) - r_for_vnutr*(1/(-X[0])+1/(2-X[1])+1/(X[0]+X[1]-10))\n",
    "    else:\n",
    "        return(f(X)+ sys.float_info.max)\n",
    "\n",
    "\n",
    "def  vnesh_shtraf1(std::pair<double, double> x)\n",
    "{\n",
    "\tif (X[0]>0) & (X[1]>2) & (X[0]+X[1]<10):\n",
    "\t\treturn f(x);\n",
    "\telse\n",
    "\t{\n",
    "\t\tdouble temp_x = -x.first;\n",
    "\t\tdouble temp_y = 2 - x.second;\n",
    "\t\tdouble temp_x_y = x.second + x.first - 10;\n",
    "\t\tif (temp_x <= 0) temp_x = 0;\n",
    "\t\tif (temp_y <= 0) temp_y = 0;\n",
    "\t\tif (temp_x_y <= 0) temp_x_y = 0;\n",
    "\t\treturn (kvad(x) + r_for_vnesh * (temp_x * temp_x + temp_y * temp_y + temp_x_y * temp_x_y));\n",
    "\t}\n",
    "}\n"
   ]
  }
 ],
 "metadata": {
  "kernelspec": {
   "display_name": "Python 3",
   "language": "python",
   "name": "python3"
  },
  "language_info": {
   "name": "python",
   "version": "3.10.7 (tags/v3.10.7:6cc6b13, Sep  5 2022, 14:08:36) [MSC v.1933 64 bit (AMD64)]"
  },
  "orig_nbformat": 4,
  "vscode": {
   "interpreter": {
    "hash": "3f885a4b7a69a006dee86a89cfa27939783cd21011a51a27a075a04530a046ce"
   }
  }
 },
 "nbformat": 4,
 "nbformat_minor": 2
}
